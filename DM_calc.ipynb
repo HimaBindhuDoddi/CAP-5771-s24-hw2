{
 "cells": [
  {
   "cell_type": "code",
   "execution_count": 13,
   "id": "6c6c504a",
   "metadata": {},
   "outputs": [],
   "source": [
    "import math "
   ]
  },
  {
   "cell_type": "code",
   "execution_count": 14,
   "id": "0efe8e85",
   "metadata": {},
   "outputs": [],
   "source": [
    "def entropy(l):\n",
    "    entr=0\n",
    "    for i in l:\n",
    "        entr+=i*math.log(i,2)\n",
    "    return -entr"
   ]
  },
  {
   "cell_type": "markdown",
   "id": "361495a3-5e0d-44c7-9e42-8e38208a1f90",
   "metadata": {},
   "source": [
    "**question1**"
   ]
  },
  {
   "cell_type": "code",
   "execution_count": 15,
   "id": "2db700d2",
   "metadata": {},
   "outputs": [
    {
     "data": {
      "text/plain": [
       "0.2780719051126377"
      ]
     },
     "execution_count": 15,
     "metadata": {},
     "output_type": "execute_result"
    }
   ],
   "source": [
    "##calculate root node\n",
    "##smoking Info\n",
    "ent_sm=2*5/10*((-4/5)* math.log(4/5,2) - (1/5)* math.log(1/5,2))\n",
    "1-ent_sm"
   ]
  },
  {
   "cell_type": "code",
   "execution_count": 16,
   "id": "8be0e763",
   "metadata": {},
   "outputs": [
    {
     "data": {
      "text/plain": [
       "0.23645279766002802"
      ]
     },
     "execution_count": 16,
     "metadata": {},
     "output_type": "execute_result"
    }
   ],
   "source": [
    "##radeon Info\n",
    "ent_rad=0.8* ((-3/8)* math.log(3/8,2) - (5/8)* math.log(5/8,2))\n",
    "1-ent_rad"
   ]
  },
  {
   "cell_type": "code",
   "execution_count": 17,
   "id": "b4af6d1d",
   "metadata": {},
   "outputs": [
    {
     "data": {
      "text/plain": [
       "0.034851554559677034"
      ]
     },
     "execution_count": 17,
     "metadata": {},
     "output_type": "execute_result"
    }
   ],
   "source": [
    "##cough Info\n",
    "\n",
    "ent_cc=(7/10 * ((-4/7)* math.log(4/7,2) - (3/7)* math.log(3/7,2)) + 3/10 * ((-1/3)* math.log(1/3,2) - (2/3)* math.log(2/3,2)))\n",
    "1- ent_cc"
   ]
  },
  {
   "cell_type": "code",
   "execution_count": 18,
   "id": "f9e34504",
   "metadata": {},
   "outputs": [
    {
     "data": {
      "text/plain": [
       "0.02904940554533142"
      ]
     },
     "execution_count": 18,
     "metadata": {},
     "output_type": "execute_result"
    }
   ],
   "source": [
    "##WL info\n",
    "ent_wl=2*5/10* ((-3/5)* math.log(3/5,2) - (2/5)* math.log(2/5,2))\n",
    "1-ent_wl"
   ]
  },
  {
   "cell_type": "code",
   "execution_count": 19,
   "id": "d408258f",
   "metadata": {},
   "outputs": [
    {
     "name": "stdout",
     "output_type": "stream",
     "text": [
      "0.7219280948873623\n"
     ]
    }
   ],
   "source": [
    "##level2\n",
    "##smoking == Y\n",
    "\n",
    "e_p_smoking=entropy([4/5,1/5])\n",
    "print(e_p_smoking)"
   ]
  },
  {
   "cell_type": "code",
   "execution_count": 20,
   "id": "3c08df23-9b6d-4c93-9c1d-97eff4df5716",
   "metadata": {},
   "outputs": [
    {
     "name": "stdout",
     "output_type": "stream",
     "text": [
      "-0.0\n",
      "0.8112781244591328\n",
      "0.6084585933443496\n",
      "info_rad:  0.11346950154301272\n",
      "-0.0\n",
      "-0.0\n",
      "-0.0\n",
      "info_cou:  0.7219280948873623\n",
      "-0.0\n",
      "0.9182958340544896\n",
      "0.5509775004326937\n",
      "info_wl:  0.17095059445466865\n"
     ]
    }
   ],
   "source": [
    "##rad\n",
    "rad_l=entropy([1])\n",
    "print(rad_l)\n",
    "rad_r=entropy([3/4,1/4])\n",
    "print(rad_r)\n",
    "#wt_entropy\n",
    "rad=0.25*rad_l + 0.75*rad_r\n",
    "print(rad)\n",
    "#info_gain rad\n",
    "info_rad=e_p_smoking-rad\n",
    "print(\"info_rad: \",info_rad)\n",
    "\n",
    "##cough\n",
    "cou_l=entropy([1])\n",
    "print(cou_l)\n",
    "cou_r=entropy([1])\n",
    "print(cou_r)\n",
    "#wt_entropy\n",
    "cou=0.75*cou_l + 0.25*cou_r\n",
    "print(cou)\n",
    "#info_gain cou\n",
    "info_cou=e_p_smoking-cou\n",
    "print(\"info_cou: \",info_cou)\n",
    "\n",
    "##wl\n",
    "wl_l=entropy([1])\n",
    "print(wl_l)\n",
    "wl_r=entropy([2/3,1/3])\n",
    "print(wl_r)\n",
    "#wt_entropy\n",
    "wl=0.4*wl_l + 0.6*wl_r\n",
    "print(wl)\n",
    "#info_gain cou\n",
    "info_wl=e_p_smoking-wl\n",
    "print(\"info_wl: \",info_wl)\n"
   ]
  },
  {
   "cell_type": "code",
   "execution_count": 21,
   "id": "9a2aded5",
   "metadata": {},
   "outputs": [
    {
     "name": "stdout",
     "output_type": "stream",
     "text": [
      "-0.0\n",
      "-0.0\n",
      "-0.0\n",
      "info_rad:  0.7219280948873623\n",
      "-0.0\n",
      "0.9182958340544896\n",
      "0.5509775004326937\n",
      "info_wl:  0.17095059445466865\n"
     ]
    }
   ],
   "source": [
    "##Level2\n",
    "##smoking==N\n",
    "\n",
    "\n",
    "##rad\n",
    "rad_l=entropy([1])\n",
    "print(rad_l)\n",
    "rad_r=entropy([1])\n",
    "print(rad_r)\n",
    "#wt_entropy\n",
    "rad=0.25*rad_l + 0.75*rad_r\n",
    "print(rad)\n",
    "#info_gain rad\n",
    "info_rad=e_p_smoking-rad\n",
    "print(\"info_rad: \",info_rad)\n",
    "\n",
    "##wl\n",
    "wl_l=entropy([1])\n",
    "print(wl_l)\n",
    "wl_r=entropy([2/3,1/3])\n",
    "print(wl_r)\n",
    "#wt_entropy\n",
    "wl=0.4*wl_l + 0.6*wl_r\n",
    "print(wl)\n",
    "#info_gain cou\n",
    "info_wl=e_p_smoking-wl\n",
    "print(\"info_wl: \",info_wl)\n"
   ]
  },
  {
   "cell_type": "markdown",
   "id": "7de2273d-febc-4985-9bf7-3d0dc70532f2",
   "metadata": {},
   "source": [
    "**question 2**"
   ]
  },
  {
   "cell_type": "markdown",
   "id": "95a68694-78a1-4bf1-9d86-ce3c663a31ea",
   "metadata": {},
   "source": [
    "**2A**"
   ]
  },
  {
   "cell_type": "code",
   "execution_count": 22,
   "id": "7bc41d09",
   "metadata": {
    "scrolled": true
   },
   "outputs": [
    {
     "data": {
      "text/plain": [
       "1.4253642047367425"
      ]
     },
     "execution_count": 22,
     "metadata": {},
     "output_type": "execute_result"
    }
   ],
   "source": [
    "#entropy of parent\n",
    "e_p=-0.41*(math.log(0.41,2))-0.46*(math.log(0.46,2))-0.13*(math.log(0.13,2))\n",
    "e_p"
   ]
  },
  {
   "cell_type": "markdown",
   "id": "971e29a5-b787-4e35-aba9-9eed3ec6402f",
   "metadata": {},
   "source": [
    "**2B**"
   ]
  },
  {
   "cell_type": "code",
   "execution_count": 23,
   "id": "6a80ce34",
   "metadata": {},
   "outputs": [
    {
     "name": "stdout",
     "output_type": "stream",
     "text": [
      "0.7219280948873625\n",
      "1.3794821565051398\n",
      "1.2479713441815845\n"
     ]
    },
    {
     "data": {
      "text/plain": [
       "0.17739286055515802"
      ]
     },
     "execution_count": 23,
     "metadata": {},
     "output_type": "execute_result"
    }
   ],
   "source": [
    "#x<0.2\n",
    "\n",
    "x02_l=-(0.04/0.2)*(math.log(0.04/0.2,2))-(0.16/0.2)*(math.log(0.16/0.2,2))\n",
    "print(x02_l)\n",
    "\n",
    "x02_r=-(0.41/0.8)*(math.log(0.41/0.8,2))-(0.3/0.8)*(math.log(0.3/0.8,2))-(0.09/0.8)*(math.log(0.09/0.8,2))\n",
    "print(x02_r)\n",
    "\n",
    "#wt_entropy\n",
    "x02=0.2*x02_l + 0.8*x02_r\n",
    "print(x02)\n",
    "\n",
    "#info_gain x<0.2\n",
    "info_x02=e_p-x02\n",
    "info_x02\n"
   ]
  },
  {
   "cell_type": "code",
   "execution_count": 24,
   "id": "8c0db156",
   "metadata": {},
   "outputs": [
    {
     "name": "stdout",
     "output_type": "stream",
     "text": [
      "1.1503914187111115\n",
      "0.8812908992306927\n",
      "1.069661262866986\n"
     ]
    },
    {
     "data": {
      "text/plain": [
       "0.3557029418697566"
      ]
     },
     "execution_count": 24,
     "metadata": {},
     "output_type": "execute_result"
    }
   ],
   "source": [
    "#x<0.7\n",
    "x07_l=-0.2/0.7*(math.log(0.2/0.7,2))-0.46/0.7*(math.log(0.46/0.7,2))-0.04/0.7*(math.log(0.04/0.7,2))\n",
    "print(x07_l)\n",
    "\n",
    "x07_r=-0.21/0.3*(math.log(0.21/0.3,2))-0-0.09/0.3*(math.log(0.09/0.3,2))\n",
    "print(x07_r)\n",
    "\n",
    "x07=0.7*x07_l + 0.3*x07_r\n",
    "print(x07)\n",
    "\n",
    "#info_gain x<0.7\n",
    "info_x07=e_p-x07\n",
    "info_x07"
   ]
  },
  {
   "cell_type": "code",
   "execution_count": 25,
   "id": "508ffb4c-1547-49eb-b771-e845042c73ea",
   "metadata": {},
   "outputs": [
    {
     "name": "stdout",
     "output_type": "stream",
     "text": [
      "1.1812908992306925\n",
      "0.9219280948873625\n",
      "1.0775457774933606\n"
     ]
    },
    {
     "data": {
      "text/plain": [
       "0.34781842724338197"
      ]
     },
     "execution_count": 25,
     "metadata": {},
     "output_type": "execute_result"
    }
   ],
   "source": [
    "#y<0.6\n",
    "y06_l=-0.09/0.6*(math.log(0.09/0.6,2))-0.42/0.6*(math.log(0.42/0.6,2))-0.09/0.6*(math.log(0.09/0.6,2))\n",
    "print(y06_l)\n",
    "\n",
    "y06_r=-0.32/0.4*(math.log(0.32/0.4,2))-0.04/0.4*(math.log(0.04/0.4,2))-0.04/0.4*(math.log(0.04/0.4,2))\n",
    "print(y06_r)\n",
    "\n",
    "y06=0.6*y06_l + 0.4*y06_r\n",
    "print(y06)\n",
    "\n",
    "#info_gain x<0.7\n",
    "info_y06=e_p-y06\n",
    "info_y06"
   ]
  },
  {
   "cell_type": "markdown",
   "id": "07a0342c-27ba-4397-8d64-632de23257d4",
   "metadata": {},
   "source": [
    "**2D**"
   ]
  },
  {
   "cell_type": "code",
   "execution_count": 26,
   "id": "d0cc6de9",
   "metadata": {},
   "outputs": [
    {
     "name": "stdout",
     "output_type": "stream",
     "text": [
      "1.4384349344259844\n",
      "0.7219280948873625\n",
      "1.2951335665182602\n"
     ]
    },
    {
     "data": {
      "text/plain": [
       "0.13023063821848235"
      ]
     },
     "execution_count": 26,
     "metadata": {},
     "output_type": "execute_result"
    }
   ],
   "source": [
    "#y=0.8\n",
    "\n",
    "y08_l=-0.25/0.8*(math.log(0.25/0.8,2))-0.42/0.8*(math.log(0.42/0.8,2))-0.13/0.8*(math.log(0.13/0.8,2))\n",
    "print(y08_l)\n",
    "\n",
    "y08_r=-0.16/0.2*(math.log(0.16/0.2,2))-0.04/0.2*(math.log(0.04/0.2,2))-0\n",
    "print(y08_r)\n",
    "\n",
    "y08=0.8*y08_l + 0.2*y08_r\n",
    "print(y08)\n",
    "\n",
    "#info_gain x<0.7\n",
    "info_y08=e_p-y08\n",
    "info_y08"
   ]
  },
  {
   "cell_type": "code",
   "execution_count": 27,
   "id": "43cbc8c0-69c6-4d01-9fcc-e9d22316bda6",
   "metadata": {},
   "outputs": [],
   "source": [
    "def entropy(l):\n",
    "    entr=0\n",
    "    for i in l:\n",
    "        entr+=i*math.log(i,2)\n",
    "    return -entr"
   ]
  },
  {
   "cell_type": "code",
   "execution_count": 28,
   "id": "f1fe7cbd-68f0-4826-a94d-e6b37e88b843",
   "metadata": {},
   "outputs": [
    {
     "name": "stdout",
     "output_type": "stream",
     "text": [
      "1.1503914187111115\n"
     ]
    }
   ],
   "source": [
    "##root node selected x<0.7\n",
    "#calculations for Left hand side of x<0.7\n",
    "\n",
    "##entropy of parent (left side of tree)\n",
    "#-0.2/0.7*(math.log(0.2/0.7,2))-0.46/0.7*(math.log(0.46/0.7,2))-0.04/0.7*(math.log(0.04/0.7,2))\n",
    "e_p_l1=entropy([0.2/0.7,0.46/0.7,0.04/0.7])\n",
    "print(e_p_l1)"
   ]
  },
  {
   "cell_type": "code",
   "execution_count": 29,
   "id": "1036e84d-9e40-4b79-9c35-c6d2d9f3def1",
   "metadata": {},
   "outputs": [
    {
     "name": "stdout",
     "output_type": "stream",
     "text": [
      "-0.0\n",
      "1.1488348542809168\n",
      "0.32167375919865676\n",
      "info_y06: 0.8287176595124548\n",
      "1.0270582666007908\n",
      "0.863120568566631\n",
      "0.6959895088957713\n",
      "info_y08: 0.45440190981534023\n",
      "0.7219280948873625\n",
      "0.9709505944546686\n",
      "0.6298609162048068\n",
      "info_x02: 0.5205305025063047\n"
     ]
    }
   ],
   "source": [
    "#y<0.6\n",
    "y06_l=entropy([1])\n",
    "print(y06_l)\n",
    "y06_r=entropy([0.2/0.28,0.04/0.28,0.04/0.28])\n",
    "print(y06_r)\n",
    "y06=0.42*y06_l + 0.28*y06_r\n",
    "print(y06)\n",
    "#info_gain \n",
    "info_y06=e_p_l1-y06\n",
    "print(\"info_y06:\",info_y06)\n",
    "\n",
    "#y<0.8\n",
    "y08_l=entropy([0.42/0.56,0.10/0.56,0.04/0.56])\n",
    "print(y08_l)\n",
    "y08_r=entropy([0.10/0.14,0.04/0.14])\n",
    "print(y08_r)\n",
    "y08=0.56*y08_l + 0.14*y08_r\n",
    "print(y08)\n",
    "#info_gain \n",
    "info_y08=e_p_l1-y08\n",
    "print(\"info_y08:\",info_y08)\n",
    "\n",
    "#x<0.2\n",
    "x02_l=entropy([0.16/0.2,0.04/0.2])\n",
    "print(x02_l)\n",
    "x02_r=entropy([0.2/0.5,0.3/0.5])\n",
    "print(x02_r)\n",
    "x02=0.2*x02_l + 0.5*x02_r\n",
    "print(x02)\n",
    "#info_gain \n",
    "info_x02=e_p_l1-x02\n",
    "print(\"info_x02:\",info_x02)"
   ]
  },
  {
   "cell_type": "code",
   "execution_count": 30,
   "id": "84270349-0637-419f-bc20-dae2612e27be",
   "metadata": {},
   "outputs": [
    {
     "name": "stdout",
     "output_type": "stream",
     "text": [
      "1.1488348542809168\n",
      "1.0\n",
      "-0.0\n",
      "0.08\n",
      "info_x02: 1.0688348542809167\n",
      "0.863120568566631\n",
      "0.863120568566631\n",
      "0.2416737591986567\n",
      "info_y08: 0.9071610950822602\n"
     ]
    }
   ],
   "source": [
    "##calculations for right side of y<0.6\n",
    "\n",
    "e_p_r_y06=entropy([0.2/0.28,0.04/0.28,0.04/0.28])\n",
    "print(e_p_r_y06)\n",
    "\n",
    "\n",
    "#x<0.2\n",
    "x02_l=entropy([0.04/0.08,0.04/0.08])\n",
    "print(x02_l)\n",
    "x02_r=entropy([0.2/0.2])\n",
    "print(x02_r)\n",
    "x02=0.08*x02_l + 0.2*x02_r\n",
    "print(x02)\n",
    "#info_gain \n",
    "info_x02=e_p_r_y06-x02\n",
    "print(\"info_x02:\",info_x02)\n",
    "\n",
    "#y<0.8\n",
    "y08_l=entropy([0.04/0.14,0.10/0.14])\n",
    "print(y08_l)\n",
    "y08_r=entropy([0.04/0.14,0.10/0.14])\n",
    "print(y08_r)\n",
    "y08=0.14*y08_l + 0.14*y08_r\n",
    "print(y08)\n",
    "#info_gain \n",
    "info_y08=e_p_r_y06-y08\n",
    "print(\"info_y08:\",info_y08)\n",
    "\n"
   ]
  },
  {
   "cell_type": "code",
   "execution_count": 31,
   "id": "819a37ad-c0a5-4a10-b51a-bfa5d46ce670",
   "metadata": {},
   "outputs": [
    {
     "name": "stdout",
     "output_type": "stream",
     "text": [
      "0.8812908992306927\n"
     ]
    }
   ],
   "source": [
    "#calculations for Right hand side of x<0.7\n",
    "\n",
    "##entropy of parent (Right side of tree)\n",
    "e_p_r1=entropy([0.21/0.3,0.09/0.3])\n",
    "print(e_p_r1)"
   ]
  },
  {
   "cell_type": "code",
   "execution_count": 32,
   "id": "fca614bb-0585-454e-a89c-5b88fb9f0993",
   "metadata": {},
   "outputs": [
    {
     "name": "stdout",
     "output_type": "stream",
     "text": [
      "1.0\n",
      "-0.0\n",
      "0.18\n",
      "info_y06: 0.7012908992306928\n",
      "-0.0\n",
      "0.9852281360342516\n",
      "0.20689790856719284\n",
      "info_y03: 0.6743929906634999\n"
     ]
    }
   ],
   "source": [
    "#y<0.6\n",
    "y06_l=entropy([0.09/0.18,0.09/0.18])\n",
    "print(y06_l)\n",
    "y06_r=entropy([0.12/0.12])\n",
    "print(y06_r)\n",
    "y06=0.18*y06_l + 0.12*y06_r\n",
    "print(y06)\n",
    "#info_gain x<0.7\n",
    "info_y06=e_p_r1-y06\n",
    "print(\"info_y06:\",info_y06)\n",
    "\n",
    "#y<0.3\n",
    "y03_l=entropy([0.09/0.09])\n",
    "print(y03_l)\n",
    "y03_r=entropy([0.12/0.21,0.09/0.21])\n",
    "print(y03_r)\n",
    "y03=0.09*y03_l + 0.21*y03_r\n",
    "print(y03)\n",
    "#info_gain \n",
    "info_y03=e_p_r1-y03\n",
    "print(\"info_y03:\",info_y03)"
   ]
  },
  {
   "cell_type": "markdown",
   "id": "bb065419-2555-4ef4-b929-e3dc3e51ef40",
   "metadata": {},
   "source": [
    "**question3**"
   ]
  },
  {
   "cell_type": "code",
   "execution_count": 33,
   "id": "8b79850e-b88b-4a6a-a2a9-a96c8b25400e",
   "metadata": {},
   "outputs": [
    {
     "name": "stdout",
     "output_type": "stream",
     "text": [
      "0.5\n",
      "0.48\n",
      "0.16250000000000003\n",
      "0.49142857142857144\n"
     ]
    }
   ],
   "source": [
    "##overall\n",
    "class_co = 10\n",
    "class_c1 = 10\n",
    "tot = class_co + class_c1\n",
    "p_co = class_co/tot\n",
    "p_c1 = class_c1/tot\n",
    "gini_index = 1 - (p_co**2 + p_c1**2)\n",
    "print(gini_index)\n",
    "\n",
    "##gender\n",
    "n_instances = 20\n",
    "n_male = 10\n",
    "n_female = 10\n",
    "p_male = n_male / n_instances\n",
    "p_female = n_female / n_instances\n",
    "p_male_co = 6/n_male\n",
    "p_male_c1 = 4/n_male\n",
    "p_female_co = 4/n_female\n",
    "p_female_c1 = 6/n_female\n",
    "gini_male = 1 - (p_male_co ** 2  + p_male_c1 ** 2)\n",
    "gini_female = 1 - (p_female_co ** 2 + p_female_c1 ** 2)\n",
    "gender_gini_index = (p_male * gini_male) + (p_female * gini_female)\n",
    "print(gender_gini_index)\n",
    "\n",
    "##car type\n",
    "num_instances = 20\n",
    "num_family = 4\n",
    "num_sports = 8\n",
    "num_luxury = 8\n",
    "prob_family = num_family / num_instances\n",
    "prob_sports = num_sports / num_instances\n",
    "prob_luxury = num_luxury / num_instances\n",
    "p_family_co = 1/num_family\n",
    "p_family_c1 = 3/num_family\n",
    "p_sports_co = 8/num_sports\n",
    "p_sports_c1 = 0/num_sports\n",
    "p_luxury_co = 1/num_luxury\n",
    "p_luxury_c1 = 7/num_luxury\n",
    "gini_family = 1 - (p_family_co ** 2  + p_family_c1 ** 2)\n",
    "gini_sports = 1 - (p_sports_co ** 2  + p_sports_c1 ** 2)\n",
    "gini_luxury = 1 - (p_luxury_co ** 2  + p_luxury_c1 ** 2)\n",
    "car_gini_index = prob_family * gini_family + prob_sports * gini_sports + prob_luxury * gini_luxury\n",
    "print(car_gini_index)\n",
    "\n",
    "##shirtsize\n",
    "gini_ss= 1 - ((3/5) ** 2  + (2/5) ** 2)\n",
    "gini_sm=1 - ((3/7) ** 2  + (4/7) ** 2)\n",
    "gini_sl=1 - ((2/4) ** 2  + (2/4) ** 2)\n",
    "gini_sxl=1 - ((2/4) ** 2  + (2/4) ** 2)\n",
    "shirt_gini=(5/20)*gini_ss + gini_sm*(7/20) + gini_sl*(4/20) + gini_sxl*(4/20)\n",
    "print(shirt_gini)"
   ]
  },
  {
   "cell_type": "markdown",
   "id": "f17efad6-1313-4b98-92ed-25b3bbe77aa5",
   "metadata": {},
   "source": [
    "**question6**"
   ]
  },
  {
   "cell_type": "code",
   "execution_count": 35,
   "id": "ed5ed6ff-7f60-4189-93db-46264d20c99a",
   "metadata": {},
   "outputs": [],
   "source": [
    "\n",
    "def gini(l):\n",
    "    gini=0\n",
    "    for i in l:\n",
    "        gini+=i**2\n",
    "    return 1-gini"
   ]
  },
  {
   "cell_type": "code",
   "execution_count": 37,
   "id": "f9a04193-98c5-4962-b62b-2f7b56f4763c",
   "metadata": {},
   "outputs": [
    {
     "name": "stdout",
     "output_type": "stream",
     "text": [
      "0.4992\n",
      "0\n",
      "gini x<0.5:  0.2496\n",
      "0.48\n",
      "0.41999999999999993\n",
      "gini x<0.2:  0.44399999999999995\n",
      "0.48\n",
      "0\n",
      "gini y<0.4:  0.288\n",
      "0.48\n",
      "0.4897959183673468\n",
      "gini y<0.7:  0.48685714285714277\n"
     ]
    }
   ],
   "source": [
    "# x<0.5\n",
    "x5_y=gini([0.26/0.5,0.24/0.5])\n",
    "print(x5_y)\n",
    "\n",
    "x5_n=gini([1,0])\n",
    "print(x5_n)\n",
    "\n",
    "x5=0.5*x5_y + 0.5*x5_n\n",
    "print(\"gini x<0.5: \",x5)\n",
    "\n",
    "# x<0.2\n",
    "x2_y=gini([0.12/0.3,0.18/0.3])\n",
    "print(x2_y)\n",
    "\n",
    "x2_n=gini([0.14/0.2,0.06/0.2])\n",
    "print(x2_n)\n",
    "\n",
    "x2=(0.2/0.5)*x2_y + (0.3/0.5)*x2_n\n",
    "print(\"gini x<0.2: \",x2)\n",
    "\n",
    "# y<0.4\n",
    "y4_n=gini([0.36/0.6,0.24/0.6])\n",
    "print(y4_n)\n",
    "\n",
    "y4_y=gini([1,0])\n",
    "print(y4_y)\n",
    "\n",
    "y4=0.4*y4_y + 0.6*y4_n\n",
    "print(\"gini y<0.4: \",y4)\n",
    "\n",
    "# y<0.7\n",
    "\n",
    "y7_n=gini([0.06/0.15,0.09/0.15])\n",
    "print(y7_n)\n",
    "\n",
    "y7_y=gini([0.2/0.35,0.15/0.35])\n",
    "print(y7_y)\n",
    "\n",
    "y7=(0.35/0.5)*y7_y + (0.15/0.5)*y7_n\n",
    "print(\"gini y<0.7: \",y7)\n"
   ]
  },
  {
   "cell_type": "code",
   "execution_count": 38,
   "id": "feb9029e-ad8b-42cf-9bb0-1daa0e15b0f0",
   "metadata": {},
   "outputs": [
    {
     "name": "stdout",
     "output_type": "stream",
     "text": [
      "0.0\n",
      "0.0\n",
      "gini y<0.7:  0.0\n",
      "1\n",
      "0.0\n",
      "gini x<0.2:  0.0\n"
     ]
    }
   ],
   "source": [
    "#right side calculations\n",
    "\n",
    "# y<0.7\n",
    "\n",
    "y7_y=gini([0.35/0.35,0/0.35])\n",
    "print(y7_y) \n",
    "\n",
    "y7_n=gini([0.15/0.15,0/0.15])\n",
    "print(y7_n)\n",
    "\n",
    "\n",
    "y7=(0.35/0.5)*y7_y + (0.15/0.5)*y7_n\n",
    "print(\"gini y<0.7: \",y7)\n",
    "\n",
    "\n",
    "# x<0.2\n",
    "x2_y=gini([0,0])\n",
    "print(x2_y)\n",
    "\n",
    "x2_n=gini([0.5/0.5,0])\n",
    "print(x2_n)\n",
    "\n",
    "x2=(0)*x2_y + (0.5/0.5)*x2_n\n",
    "print(\"gini x<0.2: \",x2)"
   ]
  },
  {
   "cell_type": "markdown",
   "id": "1d6bc353-ee39-463c-b7a2-86b283e6ebf2",
   "metadata": {},
   "source": [
    "**question7**"
   ]
  },
  {
   "cell_type": "code",
   "execution_count": 41,
   "id": "e7626d93-bce8-46cd-b434-9b729e98e4ad",
   "metadata": {},
   "outputs": [
    {
     "data": {
      "text/plain": [
       "1.0"
      ]
     },
     "execution_count": 41,
     "metadata": {},
     "output_type": "execute_result"
    }
   ],
   "source": [
    "parent_ent=entropy([10/20,10/20])\n",
    "parent_ent"
   ]
  },
  {
   "cell_type": "code",
   "execution_count": 42,
   "id": "2a070297-d4d6-49d8-ab2d-5b2db266c204",
   "metadata": {},
   "outputs": [
    {
     "name": "stdout",
     "output_type": "stream",
     "text": [
      "0.5310044064107188\n"
     ]
    }
   ],
   "source": [
    "##handedness\n",
    "\n",
    "h_l=entropy([9/10,1/10])\n",
    "h_r=entropy([1/10,9/10])\n",
    "hand_wt_ent=2*(10/20)*h_l\n",
    "info_hand=parent_ent-hand_wt_ent\n",
    "print(info_hand)"
   ]
  },
  {
   "cell_type": "code",
   "execution_count": 43,
   "id": "18ea3003-c646-4fb1-ac00-ce0d7b86d8c6",
   "metadata": {},
   "outputs": [
    {
     "data": {
      "text/plain": [
       "0.23137821315975915"
      ]
     },
     "execution_count": 43,
     "metadata": {},
     "output_type": "execute_result"
    }
   ],
   "source": [
    "#ID gain ratio\n",
    "\n",
    "ID=1/entropy([1/20]*20)\n",
    "ID"
   ]
  },
  {
   "cell_type": "code",
   "execution_count": 45,
   "id": "b64745f8",
   "metadata": {},
   "outputs": [
    {
     "data": {
      "text/plain": [
       "0.5310044064107188"
      ]
     },
     "execution_count": 45,
     "metadata": {},
     "output_type": "execute_result"
    }
   ],
   "source": [
    "##handedness Gain ratio\n",
    "hand=info_hand/entropy([10/20,10/20])\n",
    "hand"
   ]
  },
  {
   "cell_type": "code",
   "execution_count": null,
   "id": "49a20a25-22d2-4334-bc88-2ee37de58ec4",
   "metadata": {},
   "outputs": [],
   "source": []
  }
 ],
 "metadata": {
  "kernelspec": {
   "display_name": "Python 3 (ipykernel)",
   "language": "python",
   "name": "python3"
  },
  "language_info": {
   "codemirror_mode": {
    "name": "ipython",
    "version": 3
   },
   "file_extension": ".py",
   "mimetype": "text/x-python",
   "name": "python",
   "nbconvert_exporter": "python",
   "pygments_lexer": "ipython3",
   "version": "3.11.5"
  }
 },
 "nbformat": 4,
 "nbformat_minor": 5
}
